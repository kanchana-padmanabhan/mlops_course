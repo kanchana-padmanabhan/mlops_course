{
 "cells": [
  {
   "cell_type": "markdown",
   "id": "0e987f77-2abc-44a5-a0e2-03a40e384ad0",
   "metadata": {},
   "source": [
    "### Load the model from Model Registry"
   ]
  },
  {
   "cell_type": "code",
   "execution_count": 1,
   "id": "a00a1e67-deeb-4cd2-9bf1-7c3735df49c9",
   "metadata": {},
   "outputs": [],
   "source": [
    "import mlflow\n",
    "import pandas as pd\n",
    "from datetime import datetime\n",
    "import numpy as np"
   ]
  },
  {
   "cell_type": "code",
   "execution_count": 2,
   "id": "1400c4f0-883e-4451-9603-89a07df2997f",
   "metadata": {},
   "outputs": [],
   "source": [
    "name = 'monthly_sales'\n",
    "stage = 'None'"
   ]
  },
  {
   "cell_type": "code",
   "execution_count": 4,
   "id": "1ed3209b-1e68-4bb6-86ef-ed8e8d7c83f9",
   "metadata": {},
   "outputs": [],
   "source": [
    "mlflow.set_tracking_uri(\"http://127.0.0.1:5000\")"
   ]
  },
  {
   "cell_type": "code",
   "execution_count": 26,
   "id": "dfc0102c-ac6a-4a7c-b362-1f44b13735a5",
   "metadata": {},
   "outputs": [
    {
     "data": {
      "text/plain": [
       "<module 'mlflow.pyfunc' from '/Users/kanchanapadmanabhan/Library/CloudStorage/OneDrive-Personal/Personal-Course/Vector/Model Deployment/venv/lib/python3.8/site-packages/mlflow/pyfunc/__init__.py'>"
      ]
     },
     "execution_count": 26,
     "metadata": {},
     "output_type": "execute_result"
    }
   ],
   "source": []
  },
  {
   "cell_type": "code",
   "execution_count": 11,
   "id": "c0809257-08b0-40fa-ae8d-ad5a83ed047c",
   "metadata": {},
   "outputs": [],
   "source": [
    "model = mlflow.pyfunc.load_model(f\"models:/{name}/{stage}\")"
   ]
  },
  {
   "cell_type": "code",
   "execution_count": 12,
   "id": "c98554bf-19c6-49f9-aeb8-8a3ae3854ebd",
   "metadata": {},
   "outputs": [
    {
     "data": {
      "text/plain": [
       "mlflow.pyfunc.loaded_model:\n",
       "  artifact_path: model\n",
       "  flavor: mlflow.xgboost\n",
       "  run_id: 991c3b49dd4c4fa589b1cbfe6e86ab49"
      ]
     },
     "execution_count": 12,
     "metadata": {},
     "output_type": "execute_result"
    }
   ],
   "source": [
    "model"
   ]
  },
  {
   "cell_type": "code",
   "execution_count": 25,
   "id": "091bae3b-6c9d-401b-818b-e79cd92fe006",
   "metadata": {},
   "outputs": [
    {
     "data": {
      "text/plain": [
       "['Store': long, 'Temperature': double, 'Fuel_Price': double, 'MarkDown1': double, 'MarkDown2': double, 'MarkDown3': double, 'MarkDown4': double, 'MarkDown5': double, 'CPI': double, 'Unemployment': double, 'IsHoliday': long, 'Size': long, 'Dept': long, 'month': long, 'monthly_sin_1': double, 'monthly_cos_1': double, 'monthly_sin_2': double, 'monthly_cos_2': double, 'monthly_sin_3': double, 'monthly_cos_3': double]"
      ]
     },
     "execution_count": 25,
     "metadata": {},
     "output_type": "execute_result"
    }
   ],
   "source": [
    "model.metadata.get_input_schema()"
   ]
  },
  {
   "cell_type": "code",
   "execution_count": 14,
   "id": "040cb3b2-347e-4bb4-a619-7571d47c458e",
   "metadata": {},
   "outputs": [],
   "source": [
    "data = {'year_month':'2023-09',\n",
    "        'Store': 1,\n",
    "         'Temperature': 52.285,\n",
    "         'Fuel_Price': 3.4595,\n",
    "         'MarkDown1': 16931.265,\n",
    "         'MarkDown2': 7281.18,\n",
    "         'MarkDown3': 68.7925,\n",
    "         'MarkDown4': 12626.244999999999,\n",
    "         'MarkDown5': 6015.6725,\n",
    "         'CPI': 220.37496355,\n",
    "         'Unemployment': 7.348,\n",
    "         'IsHoliday': 1,\n",
    "         'Size': 151315,\n",
    "         'Dept': 1,\n",
    "     }"
   ]
  },
  {
   "cell_type": "code",
   "execution_count": 15,
   "id": "0e95400f-f88d-4e84-b18d-3dd8a6f3b6f5",
   "metadata": {},
   "outputs": [],
   "source": [
    "data['month'] = datetime.strptime(data['year_month'], '%Y-%m').month # Date.dt.to_period"
   ]
  },
  {
   "cell_type": "code",
   "execution_count": 16,
   "id": "1f818959-f30f-43c3-9d4a-2d0df9443f79",
   "metadata": {},
   "outputs": [],
   "source": [
    "def fourier_terms(value, period, num_terms):\n",
    "    terms = []\n",
    "    for i in range(1, num_terms + 1):\n",
    "        terms.extend([np.sin(2 * np.pi * i * value / period),\n",
    "                      np.cos(2 * np.pi * i * value / period)])\n",
    "    term_names_sin =  ['monthly_sin_' + str(i) for i in range(1, num_terms+1)]\n",
    "    term_names_cos =  ['monthly_cos_' + str(i) for i in range(1, num_terms+1)]\n",
    "    term_names = [None]*(len(term_names_sin)+len(term_names_cos))\n",
    "    term_names[::2] = term_names_sin\n",
    "    term_names[1::2] = term_names_cos\n",
    "    return dict(zip(term_names, terms))"
   ]
  },
  {
   "cell_type": "code",
   "execution_count": 17,
   "id": "747ba361-411e-49d0-bde2-832321b1edf4",
   "metadata": {},
   "outputs": [],
   "source": [
    "# Define the period of each component (in days)\n",
    "# For example, we can choose 365 days for yearly seasonality and 30 days for monthly seasonality.\n",
    "period_monthly = 30\n",
    "\n",
    "# Define the number of Fourier terms to use for each component\n",
    "num_terms_monthly = 3\n"
   ]
  },
  {
   "cell_type": "code",
   "execution_count": 18,
   "id": "dd794f74-a02d-454d-a28b-d7206f973073",
   "metadata": {},
   "outputs": [],
   "source": [
    "ft = fourier_terms(data['month'], 30, 3)"
   ]
  },
  {
   "cell_type": "code",
   "execution_count": 19,
   "id": "7d55c512-4875-49bc-b3cc-8559eb0714f9",
   "metadata": {},
   "outputs": [],
   "source": [
    "data.update(ft.items())"
   ]
  },
  {
   "cell_type": "code",
   "execution_count": 20,
   "id": "b0700c4d-eb4b-441f-9972-2b5d46bf274c",
   "metadata": {},
   "outputs": [
    {
     "data": {
      "text/plain": [
       "{'year_month': '2023-09',\n",
       " 'Store': 1,\n",
       " 'Temperature': 52.285,\n",
       " 'Fuel_Price': 3.4595,\n",
       " 'MarkDown1': 16931.265,\n",
       " 'MarkDown2': 7281.18,\n",
       " 'MarkDown3': 68.7925,\n",
       " 'MarkDown4': 12626.244999999999,\n",
       " 'MarkDown5': 6015.6725,\n",
       " 'CPI': 220.37496355,\n",
       " 'Unemployment': 7.348,\n",
       " 'IsHoliday': 1,\n",
       " 'Size': 151315,\n",
       " 'Dept': 1,\n",
       " 'month': 9,\n",
       " 'monthly_sin_1': 0.9510565162951536,\n",
       " 'monthly_cos_1': -0.30901699437494734,\n",
       " 'monthly_sin_2': -0.587785252292473,\n",
       " 'monthly_cos_2': -0.8090169943749475,\n",
       " 'monthly_sin_3': -0.5877852522924734,\n",
       " 'monthly_cos_3': 0.8090169943749473}"
      ]
     },
     "execution_count": 20,
     "metadata": {},
     "output_type": "execute_result"
    }
   ],
   "source": [
    "data"
   ]
  },
  {
   "cell_type": "code",
   "execution_count": 21,
   "id": "167d92a7-3042-4fe1-aeef-f3e42bb906b2",
   "metadata": {},
   "outputs": [],
   "source": [
    "input_dict = {name:data[name] for name in model.metadata.get_input_schema().input_names()}"
   ]
  },
  {
   "cell_type": "code",
   "execution_count": 22,
   "id": "8b3a5d2b-1dbf-4b8b-b7d9-f1483f65f5fa",
   "metadata": {},
   "outputs": [
    {
     "data": {
      "text/plain": [
       "{'Store': 1,\n",
       " 'Temperature': 52.285,\n",
       " 'Fuel_Price': 3.4595,\n",
       " 'MarkDown1': 16931.265,\n",
       " 'MarkDown2': 7281.18,\n",
       " 'MarkDown3': 68.7925,\n",
       " 'MarkDown4': 12626.244999999999,\n",
       " 'MarkDown5': 6015.6725,\n",
       " 'CPI': 220.37496355,\n",
       " 'Unemployment': 7.348,\n",
       " 'IsHoliday': 1,\n",
       " 'Size': 151315,\n",
       " 'Dept': 1,\n",
       " 'month': 9,\n",
       " 'monthly_sin_1': 0.9510565162951536,\n",
       " 'monthly_cos_1': -0.30901699437494734,\n",
       " 'monthly_sin_2': -0.587785252292473,\n",
       " 'monthly_cos_2': -0.8090169943749475,\n",
       " 'monthly_sin_3': -0.5877852522924734,\n",
       " 'monthly_cos_3': 0.8090169943749473}"
      ]
     },
     "execution_count": 22,
     "metadata": {},
     "output_type": "execute_result"
    }
   ],
   "source": [
    "input_dict"
   ]
  },
  {
   "cell_type": "code",
   "execution_count": 23,
   "id": "d0e43a68-bf4a-477b-912e-e26bbb1b897a",
   "metadata": {},
   "outputs": [],
   "source": [
    "def get_prediction(data):\n",
    "    result = model.predict(data)\n",
    "    return result"
   ]
  },
  {
   "cell_type": "code",
   "execution_count": 24,
   "id": "55ee7b4a-e039-4c84-bbf5-b74c29d8e84f",
   "metadata": {},
   "outputs": [
    {
     "data": {
      "text/plain": [
       "array([81435.06], dtype=float32)"
      ]
     },
     "execution_count": 24,
     "metadata": {},
     "output_type": "execute_result"
    }
   ],
   "source": [
    "get_prediction(input_dict)"
   ]
  }
 ],
 "metadata": {
  "kernelspec": {
   "display_name": "Python 3 (ipykernel)",
   "language": "python",
   "name": "python3"
  },
  "language_info": {
   "codemirror_mode": {
    "name": "ipython",
    "version": 3
   },
   "file_extension": ".py",
   "mimetype": "text/x-python",
   "name": "python",
   "nbconvert_exporter": "python",
   "pygments_lexer": "ipython3",
   "version": "3.8.17"
  }
 },
 "nbformat": 4,
 "nbformat_minor": 5
}

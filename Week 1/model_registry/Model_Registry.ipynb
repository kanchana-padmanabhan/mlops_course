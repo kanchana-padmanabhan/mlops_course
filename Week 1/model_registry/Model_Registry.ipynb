{
 "cells": [
  {
   "cell_type": "code",
   "execution_count": 1,
   "id": "245c9cd1-6334-41b3-a81b-b19dff175e5b",
   "metadata": {},
   "outputs": [],
   "source": [
    "import mlflow"
   ]
  },
  {
   "cell_type": "code",
   "execution_count": 2,
   "id": "a03239eb-ddd4-4cf8-af7e-8e5d505dff60",
   "metadata": {},
   "outputs": [],
   "source": [
    "mlflow.set_tracking_uri('http://127.0.0.1:5000')"
   ]
  },
  {
   "cell_type": "markdown",
   "id": "411de361-5fd1-4da2-982a-6d73da3329a2",
   "metadata": {},
   "source": [
    "#### Retrieve a model via API"
   ]
  },
  {
   "cell_type": "code",
   "execution_count": 5,
   "id": "22a9f9ac-87ad-4c96-915d-5892241666f9",
   "metadata": {},
   "outputs": [],
   "source": [
    "model_name_stage = mlflow.pyfunc.load_model(f\"models:/monthly_sales/Staging\") ## models:/name/stage"
   ]
  },
  {
   "cell_type": "code",
   "execution_count": 7,
   "id": "5be08aaf-20f4-4d28-96b6-d3a44c1cf1d9",
   "metadata": {},
   "outputs": [
    {
     "data": {
      "text/plain": [
       "['Store': long, 'Temperature': double, 'Fuel_Price': double, 'MarkDown1': double, 'MarkDown2': double, 'MarkDown3': double, 'MarkDown4': double, 'MarkDown5': double, 'CPI': double, 'Unemployment': double, 'IsHoliday': long, 'Size': long, 'Dept': long, 'month': long, 'monthly_sin_1': double, 'monthly_cos_1': double, 'monthly_sin_2': double, 'monthly_cos_2': double, 'monthly_sin_3': double, 'monthly_cos_3': double]"
      ]
     },
     "execution_count": 7,
     "metadata": {},
     "output_type": "execute_result"
    }
   ],
   "source": [
    "model_name_stage.metadata.get_input_schema()"
   ]
  },
  {
   "cell_type": "code",
   "execution_count": 8,
   "id": "5f85fce8-cbb1-4d4b-9c84-ceb0a96ff7c3",
   "metadata": {},
   "outputs": [],
   "source": [
    "model_name_runid = mlflow.pyfunc.load_model(f\"runs:/b4bdded01ea040cb8bc35eaeb24e4f52/model\") ## models:/name/stage"
   ]
  },
  {
   "cell_type": "code",
   "execution_count": 9,
   "id": "2981a471-ed0d-4ed3-9c7e-bd7a288907d2",
   "metadata": {},
   "outputs": [
    {
     "data": {
      "text/plain": [
       "mlflow.pyfunc.loaded_model:\n",
       "  artifact_path: model\n",
       "  flavor: mlflow.xgboost\n",
       "  run_id: b4bdded01ea040cb8bc35eaeb24e4f52"
      ]
     },
     "execution_count": 9,
     "metadata": {},
     "output_type": "execute_result"
    }
   ],
   "source": [
    "model_name_runid"
   ]
  },
  {
   "cell_type": "markdown",
   "id": "1e7252ad-e70e-485d-97e1-dc97dfa15d54",
   "metadata": {},
   "source": [
    "#### Add model"
   ]
  },
  {
   "cell_type": "code",
   "execution_count": 10,
   "id": "9d4e6c94-3111-495d-b283-13bc14225505",
   "metadata": {},
   "outputs": [
    {
     "name": "stderr",
     "output_type": "stream",
     "text": [
      "Successfully registered model 'test_model_add_api'.\n",
      "2023/07/31 22:38:58 INFO mlflow.tracking._model_registry.client: Waiting up to 300 seconds for model version to finish creation. Model name: test_model_add_api, version 1\n",
      "Created version '1' of model 'test_model_add_api'.\n"
     ]
    }
   ],
   "source": [
    "result = mlflow.register_model(\n",
    "    \"runs:/b4bdded01ea040cb8bc35eaeb24e4f52/model\", \"test_model_add_api\"\n",
    ")"
   ]
  }
 ],
 "metadata": {
  "kernelspec": {
   "display_name": "Python 3 (ipykernel)",
   "language": "python",
   "name": "python3"
  },
  "language_info": {
   "codemirror_mode": {
    "name": "ipython",
    "version": 3
   },
   "file_extension": ".py",
   "mimetype": "text/x-python",
   "name": "python",
   "nbconvert_exporter": "python",
   "pygments_lexer": "ipython3",
   "version": "3.8.17"
  }
 },
 "nbformat": 4,
 "nbformat_minor": 5
}

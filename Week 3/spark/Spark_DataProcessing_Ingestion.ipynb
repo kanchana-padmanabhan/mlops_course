{
 "cells": [
  {
   "cell_type": "code",
   "execution_count": 1,
   "id": "4c1f7473-7089-43c1-b0c0-c766693d2c09",
   "metadata": {},
   "outputs": [],
   "source": [
    "from pyspark.sql import SparkSession\n",
    "from pyspark.sql import functions as F\n",
    "from delta import *"
   ]
  },
  {
   "cell_type": "code",
   "execution_count": 2,
   "id": "bb276138-11fd-442b-a424-c8531e2d2ccc",
   "metadata": {},
   "outputs": [],
   "source": [
    "# download latest spark binary from https://spark.apache.org/downloads.html\n",
    "! export SPARK_HOME=\"/Users/kanchanapadmanabhan/OneDrive/Personal-Course/Vector/Model Deployment/mlops_course/Week 3/spark/spark-3.4.1-bin-hadoop3\"\n",
    "! export PATH=$SPARK_HOME/bin:$PATH"
   ]
  },
  {
   "cell_type": "code",
   "execution_count": 3,
   "id": "58f9d2b9-b6aa-48fe-8d46-18c03db94a99",
   "metadata": {},
   "outputs": [
    {
     "name": "stderr",
     "output_type": "stream",
     "text": [
      "23/08/20 11:06:11 WARN Utils: Your hostname, MacBook-Pro.local resolves to a loopback address: 127.0.0.1; using 192.168.1.26 instead (on interface en0)\n",
      "23/08/20 11:06:11 WARN Utils: Set SPARK_LOCAL_IP if you need to bind to another address\n",
      "Setting default log level to \"WARN\".\n",
      "To adjust logging level use sc.setLogLevel(newLevel). For SparkR, use setLogLevel(newLevel).\n",
      "23/08/20 11:06:12 WARN NativeCodeLoader: Unable to load native-hadoop library for your platform... using builtin-java classes where applicable\n"
     ]
    }
   ],
   "source": [
    "spark = SparkSession.builder \\\n",
    "    .appName(\"PySparkExample\") \\\n",
    "    .master(\"local[*]\")\\\n",
    "    .config(\"spark.default.parallelism\", \"4\")\\\n",
    "    .config(\"spark.driver.bindAddress\",\"localhost\")\\\n",
    "    .config(\"spark.ui.port\",\"4050\")\\\n",
    "    .getOrCreate()\n"
   ]
  },
  {
   "cell_type": "code",
   "execution_count": 4,
   "id": "ea199e35-e337-4853-9238-804ca1ef126a",
   "metadata": {},
   "outputs": [
    {
     "name": "stderr",
     "output_type": "stream",
     "text": [
      "[Stage 1:>                                                          (0 + 4) / 4]\r"
     ]
    },
    {
     "name": "stdout",
     "output_type": "stream",
     "text": [
      "root\n",
      " |-- Store: integer (nullable = true)\n",
      " |-- Date: string (nullable = true)\n",
      " |-- Temperature: double (nullable = true)\n",
      " |-- Fuel_Price: double (nullable = true)\n",
      " |-- MarkDown1: string (nullable = true)\n",
      " |-- MarkDown2: string (nullable = true)\n",
      " |-- MarkDown3: string (nullable = true)\n",
      " |-- MarkDown4: string (nullable = true)\n",
      " |-- MarkDown5: string (nullable = true)\n",
      " |-- CPI: string (nullable = true)\n",
      " |-- Unemployment: string (nullable = true)\n",
      " |-- IsHoliday: boolean (nullable = true)\n",
      "\n"
     ]
    },
    {
     "name": "stderr",
     "output_type": "stream",
     "text": [
      "                                                                                \r"
     ]
    }
   ],
   "source": [
    "features_df = spark.read.format(\"csv\").option(\"header\",True).options(inferSchema='True',delimiter=',').load(\"../../retail_kaggle_dataset_spark/Features*\")\n",
    "features_df.printSchema()"
   ]
  },
  {
   "cell_type": "code",
   "execution_count": 5,
   "id": "753ea9a3-77a8-4ab7-ab44-6d178c1ea7f6",
   "metadata": {},
   "outputs": [
    {
     "data": {
      "text/plain": [
       "[Row(Store=1, Date='05/02/2010', Temperature=42.31, Fuel_Price=2.572, MarkDown1='NA', MarkDown2='NA', MarkDown3='NA', MarkDown4='NA', MarkDown5='NA', CPI='211.0963582', Unemployment='8.106', IsHoliday=False),\n",
       " Row(Store=1, Date='12/02/2010', Temperature=38.51, Fuel_Price=2.548, MarkDown1='NA', MarkDown2='NA', MarkDown3='NA', MarkDown4='NA', MarkDown5='NA', CPI='211.2421698', Unemployment='8.106', IsHoliday=True),\n",
       " Row(Store=1, Date='19/02/2010', Temperature=39.93, Fuel_Price=2.514, MarkDown1='NA', MarkDown2='NA', MarkDown3='NA', MarkDown4='NA', MarkDown5='NA', CPI='211.2891429', Unemployment='8.106', IsHoliday=False),\n",
       " Row(Store=1, Date='26/02/2010', Temperature=46.63, Fuel_Price=2.561, MarkDown1='NA', MarkDown2='NA', MarkDown3='NA', MarkDown4='NA', MarkDown5='NA', CPI='211.3196429', Unemployment='8.106', IsHoliday=False),\n",
       " Row(Store=1, Date='05/03/2010', Temperature=46.5, Fuel_Price=2.625, MarkDown1='NA', MarkDown2='NA', MarkDown3='NA', MarkDown4='NA', MarkDown5='NA', CPI='211.3501429', Unemployment='8.106', IsHoliday=False)]"
      ]
     },
     "execution_count": 5,
     "metadata": {},
     "output_type": "execute_result"
    }
   ],
   "source": [
    "features_df.head(5)"
   ]
  },
  {
   "cell_type": "code",
   "execution_count": 6,
   "id": "48b75785-d574-42e3-bcc7-e5a43250576d",
   "metadata": {},
   "outputs": [],
   "source": [
    "filtered_df = features_df.filter(\"IsHoliday = True\")"
   ]
  },
  {
   "cell_type": "code",
   "execution_count": 7,
   "id": "2b37013d-8372-4481-8b5e-b6a84b3c20ed",
   "metadata": {},
   "outputs": [
    {
     "name": "stderr",
     "output_type": "stream",
     "text": [
      "                                                                                \r"
     ]
    }
   ],
   "source": [
    "output_path = \"features_df_filter_new.csv\"\n",
    "filtered_df.write.csv(output_path, header=True, mode=\"overwrite\")"
   ]
  },
  {
   "cell_type": "code",
   "execution_count": 8,
   "id": "fe310a82-2558-4a24-befb-d89bc2776475",
   "metadata": {},
   "outputs": [],
   "source": [
    "features_df = features_df.withColumn(\"Date\", F.to_date(\"Date\", \"yyyy-MM-dd\"))\n",
    "features_df = features_df.withColumn(\"IsHoliday\", features_df[\"IsHoliday\"].cast(\"boolean\"))\n",
    "\n",
    "# Compute year_month_first and month columns\n",
    "features_df = features_df.withColumn(\"year_month_first\", F.date_trunc(\"month\", F.add_months(\"Date\", -1)))\n",
    "features_df = features_df.withColumn(\"month\", F.month(\"Date\"))\n",
    "\n",
    "# Group by Store and year_month_first, then aggregate using Spark functions\n",
    "features_df_month = features_df.groupby(\"Store\", \"year_month_first\").agg(\n",
    "    F.expr(\"percentile_approx(Temperature, 0.5)\").alias(\"Temperature_median\"),\n",
    "    F.expr(\"percentile_approx(Fuel_Price, 0.5)\").alias(\"Fuel_Price_median\"),\n",
    "    F.avg(\"MarkDown1\").alias(\"MarkDown1_mean\"),\n",
    "    F.avg(\"MarkDown2\").alias(\"MarkDown2_mean\"),\n",
    "    F.avg(\"MarkDown3\").alias(\"MarkDown3_mean\"),\n",
    "    F.avg(\"MarkDown4\").alias(\"MarkDown4_mean\"),\n",
    "    F.avg(\"MarkDown5\").alias(\"MarkDown5_mean\"),\n",
    "    F.avg(\"CPI\").alias(\"CPI_mean\"),\n",
    "    F.avg(\"Unemployment\").alias(\"Unemployment_mean\"),\n",
    "    F.max(\"IsHoliday\").alias(\"IsHoliday_sum\"),\n",
    "    F.max(\"month\").alias(\"month_max\")\n",
    ")\n"
   ]
  },
  {
   "cell_type": "code",
   "execution_count": 9,
   "id": "30c53280-87b7-48b0-b5d1-641756a3cef4",
   "metadata": {},
   "outputs": [
    {
     "name": "stderr",
     "output_type": "stream",
     "text": [
      "                                                                                \r"
     ]
    },
    {
     "name": "stdout",
     "output_type": "stream",
     "text": [
      "+-----+----------------+------------------+-----------------+------------------+------------------+------------------+------------------+------------------+------------------+------------------+-------------+---------+\n",
      "|Store|year_month_first|Temperature_median|Fuel_Price_median|    MarkDown1_mean|    MarkDown2_mean|    MarkDown3_mean|    MarkDown4_mean|    MarkDown5_mean|          CPI_mean| Unemployment_mean|IsHoliday_sum|month_max|\n",
      "+-----+----------------+------------------+-----------------+------------------+------------------+------------------+------------------+------------------+------------------+------------------+-------------+---------+\n",
      "|   31|            null|             67.87|            3.353|10432.855111111097| 3049.626438356164|1221.0650000000005| 3400.065333333329| 7546.233666666672|  216.918639708284| 7.403958579881612|         true|     null|\n",
      "|   34|            null|             58.59|            3.354| 5385.857111111113|2145.8228378378376|1371.2926744186034|1709.0877272727264|3530.4172222222232|129.19709142485203| 9.772508875739637|         true|     null|\n",
      "|   28|            null|             67.84|            3.743| 9535.256666666668|  3151.65162162162| 1939.308720930232|4012.5134444444457|15265.253333333329|129.19709142485203|12.637715976331405|         true|     null|\n",
      "|   26|            null|             40.56|             3.63| 6207.255333333331| 2635.945972222223|1501.5867441860455|1901.9185393258426|3487.8824444444435|  135.652332853846|7.7499704142011625|         true|     null|\n",
      "|   27|            null|             54.95|            3.793|11541.899444444438| 5608.822307692306|2301.9476404494376| 5497.707111111109| 4945.789777777779|139.59436564260358|7.9900769230769235|         true|     null|\n",
      "|   44|            null|              51.7|            3.509|496.16477272727275|317.76222222222185|16.292968749999993|34.965999999999994| 816.2977777777771|129.19709142485203| 6.475822485207126|         true|     null|\n",
      "|   12|            null|             67.84|            3.743|10541.072222222221| 3805.352638888888| 2080.412380952381| 5067.367666666666| 4821.452777777781|129.19709142485203|12.637715976331405|         true|     null|\n",
      "|   22|            null|             53.24|             3.63|          9894.982|  4693.33661971831|2019.3637349397593|  4325.59133333333|3804.4532222222256|139.59436564260358| 7.963165680473391|         true|     null|\n",
      "|    1|            null|             67.41|            3.353|  8536.59277777778| 3346.401917808216|1670.7979775280894|3653.6314444444465| 4428.307666666663| 217.2716791698228| 7.440994082840254|         true|     null|\n",
      "|   13|            null|              51.7|            3.509|  11854.3531111111| 6326.246133333335| 3591.272022471908| 4982.908777777774| 6249.986555555554|129.19709142485203| 6.762023668639085|         true|     null|\n",
      "|    6|            null|             69.51|            3.353| 9178.621888888902| 5021.083999999995| 2467.004204545453| 3623.592000000001| 5333.071444444442|218.83889749940832| 6.412568047337264|         true|     null|\n",
      "|   16|            null|             41.26|            3.479|3716.6053333333316|1046.6041538461545|1108.3970129870133|1166.2715909090903|  2511.24633333333|194.71862115502938|6.3353076923076665|         true|     null|\n",
      "|    3|            null|             71.69|            3.353|3226.9063333333306|1097.3685507246373| 1262.148205128205| 777.1152873563213|1153.3498888888885|  220.690122328994| 7.006005917159739|         true|     null|\n",
      "|   20|            null|              55.0|            3.614|11407.859666666665|  5546.48164556962|3364.5058426966298| 5423.154777777776| 5408.834333333338|210.24814927041433| 7.368165680473397|         true|     null|\n",
      "|   40|            null|              46.5|             3.63| 6159.650111111118|2906.0322857142874|1367.8573809523798|2338.4740909090915|3635.0826666666694|  135.652332853846| 4.668562130177493|         true|     null|\n",
      "|    5|            null|             68.96|            3.353|3028.6730000000002| 1186.970757575758|1052.0375000000004|1033.1676190476187| 2205.375444444444|217.84435650414216| 6.163165680473393|         true|     null|\n",
      "|   19|            null|             50.43|            3.793|11207.985777777776| 4873.099999999996|2790.7037931034465| 5071.961555555554| 4667.303999999997|  135.652332853846|  7.99457988165684|         true|     null|\n",
      "|   41|            null|             44.81|            3.479|          8354.535|3907.6019999999953| 2205.587752808987| 4305.263444444443| 4883.173444444446|194.71862115502938| 6.807852071005888|         true|     null|\n",
      "|   15|            null|             49.87|            3.793| 5821.089666666668|2766.0173239436604|1974.2096385542168|2062.5251111111115|2309.9799999999987|  135.652332853846|  7.99457988165684|         true|     null|\n",
      "|   43|            null|             68.98|            3.353| 381.0625842696626|  636.246896551724|16.505633802816895| 97.12466666666668| 1337.895777777777|208.94165415680467| 9.772508875739637|         true|     null|\n",
      "+-----+----------------+------------------+-----------------+------------------+------------------+------------------+------------------+------------------+------------------+------------------+-------------+---------+\n",
      "only showing top 20 rows\n",
      "\n"
     ]
    }
   ],
   "source": [
    "# Show the resulting DataFrame\n",
    "features_df_month.show()"
   ]
  },
  {
   "cell_type": "code",
   "execution_count": 10,
   "id": "686fa07a-dc4a-48a4-a60f-9d801e4d55e8",
   "metadata": {},
   "outputs": [
    {
     "name": "stderr",
     "output_type": "stream",
     "text": [
      "                                                                                \r"
     ]
    }
   ],
   "source": [
    "output_path = \"features_df_month_new.csv\"\n",
    "features_df_month.write.csv(output_path, header=True, mode=\"overwrite\")"
   ]
  },
  {
   "cell_type": "code",
   "execution_count": 11,
   "id": "0d0e813e-ed80-41a6-afb4-6157f68b7d58",
   "metadata": {},
   "outputs": [],
   "source": [
    "# Stop the Spark session\n",
    "spark.stop()"
   ]
  }
 ],
 "metadata": {
  "kernelspec": {
   "display_name": "Python 3 (ipykernel)",
   "language": "python",
   "name": "python3"
  },
  "language_info": {
   "codemirror_mode": {
    "name": "ipython",
    "version": 3
   },
   "file_extension": ".py",
   "mimetype": "text/x-python",
   "name": "python",
   "nbconvert_exporter": "python",
   "pygments_lexer": "ipython3",
   "version": "3.8.17"
  }
 },
 "nbformat": 4,
 "nbformat_minor": 5
}
